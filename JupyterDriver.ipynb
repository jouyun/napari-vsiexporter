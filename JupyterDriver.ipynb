{
 "cells": [
  {
   "cell_type": "code",
   "execution_count": 1,
   "metadata": {},
   "outputs": [],
   "source": [
    "import numpy as np\n",
    "import tifffile\n",
    "import xml.etree.ElementTree as ET\n",
    "import tifffile\n",
    "import glob\n",
    "import pandas as pd\n",
    "import numpy as np\n",
    "import napari\n",
    "import dask.array as da\n",
    "from dask.array.image import imread\n",
    "import cv2\n",
    "from matplotlib.path import Path"
   ]
  },
  {
   "cell_type": "code",
   "execution_count": 2,
   "metadata": {},
   "outputs": [],
   "source": [
    "viewer = napari.Viewer()"
   ]
  },
  {
   "cell_type": "code",
   "execution_count": 3,
   "metadata": {},
   "outputs": [],
   "source": [
    "data_directory = 'D:/tmp/rahul/parent/_Tray01_Slide02.vsi.Collection/'"
   ]
  },
  {
   "cell_type": "code",
   "execution_count": 4,
   "metadata": {},
   "outputs": [],
   "source": [
    "def get_values(folder):\n",
    "    tree = ET.parse(folder + 'Layer-source-metadata.xml')\n",
    "    tiffs = glob.glob(folder + 'CH*_Z.tif')\n",
    "    tiffs.sort()\n",
    "    #img = np.array([tifffile.imread(tiff) for tiff in tiffs])\n",
    "    img = imread(folder + 'CH*_Z.tif')\n",
    "    root = tree.getroot()\n",
    "    for elem in root.iter():\n",
    "        if ('ImageAxis0Origin' in elem.tag):\n",
    "            x0 = float((elem.attrib['value']).split(' ')[0])\n",
    "        if ('ImageAxis1Origin' in elem.tag):\n",
    "            y0 = float((elem.attrib['value']).split(' ')[0])\n",
    "        if ('ImageAxis0Resolution' in elem.tag):\n",
    "            xres = float((elem.attrib['value']).split(' ')[0])\n",
    "    return img.max(axis=1), x0, y0, xres\n",
    "\n",
    "def get_all_folders(parent_folder):\n",
    "    imgs = []\n",
    "    vals = []\n",
    "    fnames = glob.glob(parent_folder + '/*Layer*')\n",
    "    for folder in fnames:\n",
    "        img, x0, y0, xres = get_values(folder+'/')\n",
    "        imgs.append(img)\n",
    "        vals.append([x0, y0, xres])\n",
    "    vals = np.array(vals)\n",
    "    x = (vals[:,0] - np.min(vals[:,0]))*1E6/np.median(vals[:,2])\n",
    "    y = (vals[:,1] - np.min(vals[:,1]))*1E6/np.median(vals[:,2])\n",
    "\n",
    "    x = x.astype(int)\n",
    "    y = y.astype(int)\n",
    "\n",
    "    xx = y\n",
    "    y = x\n",
    "    x = xx\n",
    "    return imgs, x, y\n",
    "\n"
   ]
  },
  {
   "cell_type": "code",
   "execution_count": 5,
   "metadata": {},
   "outputs": [],
   "source": [
    "def get_order_of_images(lines):\n",
    "    pts_list = []\n",
    "    for lin in lines:\n",
    "        for a in range(0, len(lin)-1):\n",
    "            point1 = lin[a]\n",
    "            point2 = lin[a+1]\n",
    "            points = make_points_along_line(point1, point2, number=30)\n",
    "            pts_list = pts_list + points.tolist()\n",
    "\n",
    "    pts_list = np.array(pts_list)\n",
    "    positions = []\n",
    "    #for pt in viewer.layers[-1].data:\n",
    "    for pt in pts_list:\n",
    "        df_pos = -1\n",
    "        z = pt[0]\n",
    "        rois = np.array(viewer.layers[-2].data)\n",
    "        c_rois = rois[rois[:,:,0]==z].reshape(-1,4,3)[:,:,[1,2]]\n",
    "        for a, rec in enumerate(c_rois):\n",
    "            path = Path(rec)\n",
    "            contained=path.contains_points([pt[1:3]])\n",
    "            if np.any(contained):\n",
    "                df_pos = a\n",
    "        positions.append([z,df_pos])\n",
    "    positions=np.array(positions)\n",
    "    positions = positions.astype(int)\n",
    "\n",
    "    read_list = []\n",
    "    for p in positions:\n",
    "        if p[1] != -1:\n",
    "            read_list.append(p[1])\n",
    "\n",
    "    read_list = pd.unique(read_list)\n",
    "    return read_list\n",
    "\n",
    "def backsub(inp):\n",
    "    filterSize =(60, 60)\n",
    "    kernel = cv2.getStructuringElement(cv2.MORPH_ELLIPSE,\n",
    "                                    filterSize)\n",
    "    blurred = cv2.GaussianBlur(inp, (5, 5), 0)\n",
    "    tophat_img = cv2.morphologyEx(blurred,\n",
    "                                cv2.MORPH_TOPHAT,\n",
    "                                kernel)\n",
    "    rtn = inp.astype(np.single) - (blurred-tophat_img)\n",
    "    rtn = np.clip(rtn, 0, np.inf)\n",
    "\n",
    "    return rtn\n",
    "\n",
    "def make_points_along_line(point1, point2, number=10):\n",
    "    pt_list = []\n",
    "    delpt = point2-point1\n",
    "    dist = np.sqrt(np.dot(delpt, delpt).sum())\n",
    "    delpt = delpt / dist\n",
    "    spacing = dist/number\n",
    "    for i in range(0, number+1):\n",
    "        pt_list.append(point1 + i*spacing*delpt)\n",
    "    return np.array(pt_list)\n"
   ]
  },
  {
   "cell_type": "code",
   "execution_count": 6,
   "metadata": {},
   "outputs": [],
   "source": [
    "imgs, x, y = get_all_folders(data_directory)"
   ]
  },
  {
   "cell_type": "code",
   "execution_count": 7,
   "metadata": {},
   "outputs": [],
   "source": [
    "x_max = np.max(np.array([i.shape[1] for i in imgs]))\n",
    "y_max = np.max(np.array([i.shape[2] for i in imgs]))\n"
   ]
  },
  {
   "cell_type": "code",
   "execution_count": 8,
   "metadata": {},
   "outputs": [],
   "source": [
    "downsample = 4"
   ]
  },
  {
   "cell_type": "code",
   "execution_count": 9,
   "metadata": {},
   "outputs": [],
   "source": [
    "xdims = np.max(x) + x_max\n",
    "ydims = np.max(y) + y_max\n",
    "\n",
    "xdims = np.ceil(xdims/downsample).astype(int)\n",
    "ydims = np.ceil(ydims/downsample).astype(int)"
   ]
  },
  {
   "cell_type": "code",
   "execution_count": 10,
   "metadata": {},
   "outputs": [],
   "source": [
    "master_img = np.zeros((imgs[0].shape[0], xdims, ydims))"
   ]
  },
  {
   "cell_type": "code",
   "execution_count": 11,
   "metadata": {},
   "outputs": [],
   "source": [
    "for idx, img in enumerate(imgs):\n",
    "    ds_img = img[:,::downsample,::downsample]\n",
    "    xstart = np.floor(x[idx]/downsample).astype(int)\n",
    "    ystart = np.floor(y[idx]/downsample).astype(int)\n",
    "    xrng = ds_img.shape[1]\n",
    "    yrng = ds_img.shape[2]\n",
    "    master_img[:,xstart:xstart+xrng, ystart:ystart+yrng] = ds_img"
   ]
  },
  {
   "cell_type": "code",
   "execution_count": 12,
   "metadata": {},
   "outputs": [
    {
     "data": {
      "text/plain": [
       "[<Image layer 'Image' at 0x27bf96d1ab0>,\n",
       " <Image layer 'Image [1]' at 0x27bf96d2ec0>,\n",
       " <Image layer 'Image [2]' at 0x27bf4d700d0>,\n",
       " <Image layer 'Image [3]' at 0x27bf1099a20>]"
      ]
     },
     "execution_count": 12,
     "metadata": {},
     "output_type": "execute_result"
    }
   ],
   "source": [
    "viewer.layers.clear()\n",
    "viewer.add_image(master_img, blending='additive', channel_axis=0, contrast_limits=[0,20000])"
   ]
  },
  {
   "cell_type": "code",
   "execution_count": 13,
   "metadata": {},
   "outputs": [],
   "source": [
    "# Make ROI boxes\n",
    "boxes = []\n",
    "for i, img in enumerate(imgs):\n",
    "    x_min = int(x[i]/downsample)\n",
    "    y_min = int(y[i]/downsample)\n",
    "    x_max = int(img.shape[1]/downsample) + x_min\n",
    "    y_max = int(img.shape[2]/downsample) + y_min\n",
    "    boxes.append([[0, x_min, y_min], [0, x_max, y_min], [0, x_max, y_max], [0, x_min, y_max]])"
   ]
  },
  {
   "cell_type": "code",
   "execution_count": 14,
   "metadata": {},
   "outputs": [
    {
     "data": {
      "text/plain": [
       "<Shapes layer 'boxes' at 0x27bde7897e0>"
      ]
     },
     "execution_count": 14,
     "metadata": {},
     "output_type": "execute_result"
    }
   ],
   "source": [
    "viewer.add_shapes(boxes, opacity=0.2)"
   ]
  },
  {
   "cell_type": "markdown",
   "metadata": {},
   "source": [
    "\n",
    "# Draw lines here"
   ]
  },
  {
   "cell_type": "code",
   "execution_count": 15,
   "metadata": {},
   "outputs": [
    {
     "name": "stderr",
     "output_type": "stream",
     "text": [
      "C:\\Users\\smc\\AppData\\Local\\Temp\\ipykernel_6380\\1049602390.py:32: FutureWarning: unique with argument that is not not a Series, Index, ExtensionArray, or np.ndarray is deprecated and will raise in a future version.\n",
      "  read_list = pd.unique(read_list)\n"
     ]
    }
   ],
   "source": [
    "lines = viewer.layers[-1].data\n",
    "read_list = get_order_of_images(lines)\n",
    "\n",
    "for idx, i in enumerate(read_list):\n",
    "    #viewer.add_image(self.imgs[i], channel_axis=0, contrast_limits=[0,20000])\n",
    "    back_subbed = np.array([backsub(img.compute()) for img in imgs[i]])\n",
    "    tifffile.imwrite(data_directory+'/outputs/'+'{:0>2}'.format(idx) + '.tif', back_subbed, imagej=True, metadata={'axes':'CYX', 'mode':'color'})\n",
    "        "
   ]
  },
  {
   "cell_type": "code",
   "execution_count": null,
   "metadata": {},
   "outputs": [],
   "source": []
  },
  {
   "cell_type": "code",
   "execution_count": null,
   "metadata": {},
   "outputs": [],
   "source": []
  },
  {
   "cell_type": "code",
   "execution_count": null,
   "metadata": {},
   "outputs": [],
   "source": []
  },
  {
   "cell_type": "code",
   "execution_count": null,
   "metadata": {},
   "outputs": [],
   "source": []
  }
 ],
 "metadata": {
  "kernelspec": {
   "display_name": "napari",
   "language": "python",
   "name": "python3"
  },
  "language_info": {
   "codemirror_mode": {
    "name": "ipython",
    "version": 3
   },
   "file_extension": ".py",
   "mimetype": "text/x-python",
   "name": "python",
   "nbconvert_exporter": "python",
   "pygments_lexer": "ipython3",
   "version": "3.10.13"
  },
  "orig_nbformat": 4
 },
 "nbformat": 4,
 "nbformat_minor": 2
}
